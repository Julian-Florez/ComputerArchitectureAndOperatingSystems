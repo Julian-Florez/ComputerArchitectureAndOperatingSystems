{
 "cells": [
  {
   "cell_type": "markdown",
   "metadata": {},
   "source": [
    "### Decimal to Binary, Octal and Hexadecimal Conversion\n",
    "- Implements a Python function that converts a decimal number to its binary, octal, and hexadecimal representations."
   ]
  },
  {
   "cell_type": "code",
   "execution_count": 69,
   "metadata": {},
   "outputs": [
    {
     "name": "stdout",
     "output_type": "stream",
     "text": [
      "('11110001001000000', '361100', '1E240')\n"
     ]
    }
   ],
   "source": [
    "def decToBinOctHex(n):\n",
    "    def decToBase(n, base):\n",
    "        res = ''\n",
    "        while n >= 1:\n",
    "            res = str(n % base) + res if n % base < 10 else chr(n % base + 55) + res\n",
    "            n = n // base\n",
    "        return res\n",
    "    return decToBase(n, 2), decToBase(n, 8), decToBase(n, 16)\n",
    "\n",
    "print(decToBinOctHex(123456))"
   ]
  },
  {
   "cell_type": "markdown",
   "metadata": {},
   "source": [
    "### Binary to Decimal Conversion\n",
    "- Write a Python function that converts a binary number (as a string) to its decimal equivalent."
   ]
  },
  {
   "cell_type": "code",
   "execution_count": 14,
   "metadata": {},
   "outputs": [
    {
     "name": "stdout",
     "output_type": "stream",
     "text": [
      "1399157\n"
     ]
    }
   ],
   "source": [
    "def binToDec(bin):\n",
    "    num = 0\n",
    "    for i in enumerate(bin[::-1]):\n",
    "        num = num + int(i[1])*(2**i[0])\n",
    "    return num\n",
    "\n",
    "print(binToDec(\"101010101100101110101\"))"
   ]
  },
  {
   "cell_type": "markdown",
   "metadata": {},
   "source": [
    "### Hexadecimal to Decimal and Binary Conversion\n",
    "- Implements a function that converts a hexadecimal number (as a string) to its decimal and binary equivalent."
   ]
  },
  {
   "cell_type": "code",
   "execution_count": 70,
   "metadata": {},
   "outputs": [
    {
     "name": "stdout",
     "output_type": "stream",
     "text": [
      "('34864146', '10000100111111110000010010 ')\n"
     ]
    }
   ],
   "source": [
    "def hexToDecBin(hex):\n",
    "    num = 0\n",
    "    bin = \" \"\n",
    "    iter = 0\n",
    "    for i in hex[::-1]:\n",
    "        match i:\n",
    "            case \"a\" | \"A\":\n",
    "                i = \"10\"\n",
    "            case \"b\" | \"B\":\n",
    "                i = \"11\"\n",
    "            case \"c\" | \"C\":\n",
    "                i = \"12\"\n",
    "            case \"d\" | \"D\":\n",
    "                i = \"13\"\n",
    "            case \"e\" | \"E\":\n",
    "                i = \"14\"\n",
    "            case \"f\" | \"F\":\n",
    "                i = \"15\"\n",
    "        num = num + int(i)*(16**iter)\n",
    "        iter = iter + 1\n",
    "    dec = str(num)\n",
    "\n",
    "    while num >= 1:\n",
    "        bin = str(num % 2) + bin\n",
    "        num = num // 2\n",
    "    return dec, bin\n",
    "\n",
    "\n",
    "print(hexToDecBin(\"213fc12\"))"
   ]
  },
  {
   "cell_type": "markdown",
   "metadata": {},
   "source": [
    "### Conversion to BCD Code\n",
    "- Implements a function that converts a decimal number to its BCD code representation."
   ]
  },
  {
   "cell_type": "code",
   "execution_count": 73,
   "metadata": {},
   "outputs": [
    {
     "data": {
      "text/plain": [
       "'0001 0010 0011 1000 0001 0010 1001 0111 1000 0001 0010'"
      ]
     },
     "execution_count": 73,
     "metadata": {},
     "output_type": "execute_result"
    }
   ],
   "source": [
    "def decToBCD(num):\n",
    "    bcd = \"\"\n",
    "    digits = [int(i) for i in str(num)]\n",
    "    for n in digits:\n",
    "        bin = \" \"\n",
    "        while n >= 1:\n",
    "            bin = str(n % 2) + bin\n",
    "            n = n // 2\n",
    "        bcd = bcd + bin.zfill(5)\n",
    "    return bcd[:-1]\n",
    "\n",
    "decToBCD(12381297812)\n"
   ]
  },
  {
   "cell_type": "markdown",
   "metadata": {},
   "source": [
    "### Binary to Gray Code Conversion\n",
    "- Write a Python function that converts a binary number to Gray Code."
   ]
  },
  {
   "cell_type": "code",
   "execution_count": 78,
   "metadata": {},
   "outputs": [
    {
     "data": {
      "text/plain": [
       "'1111011011101111011'"
      ]
     },
     "execution_count": 78,
     "metadata": {},
     "output_type": "execute_result"
    }
   ],
   "source": [
    "def binToGray(bin):\n",
    "    gray = bin[0]\n",
    "    for i in range(1, len(bin)):\n",
    "        gray += str(int(bin[i-1]) ^ int(bin[i]))\n",
    "    return gray\n",
    "\n",
    "binToGray(\"1010010010110101101\")"
   ]
  },
  {
   "cell_type": "markdown",
   "metadata": {},
   "source": [
    "### Data Structure Identification\n",
    "- Implement a Python function that identifies whether a binary string corresponds to a nibble, byte, or word."
   ]
  },
  {
   "cell_type": "code",
   "execution_count": 46,
   "metadata": {},
   "outputs": [
    {
     "name": "stdout",
     "output_type": "stream",
     "text": [
      "Nibble\n",
      "Byte\n",
      "Word\n",
      "Unknown\n"
     ]
    }
   ],
   "source": [
    "def binarySize(bin):\n",
    "    length = len(bin)\n",
    "    if length == 4:\n",
    "        return \"Nibble\"\n",
    "    elif length == 8:\n",
    "        return \"Byte\"\n",
    "    elif length == 16:\n",
    "        return \"Word\"\n",
    "    else:\n",
    "        return \"Unknown\"\n",
    "\n",
    "print(binarySize(\"1010\"))\n",
    "print(binarySize(\"10101010\"))\n",
    "print(binarySize(\"1010101010101010\"))\n",
    "print(binarySize(\"10101010101010101010101010101010\"))"
   ]
  },
  {
   "cell_type": "markdown",
   "metadata": {},
   "source": [
    "### Operation with Nibbles\n",
    "- Implement a function that performs the binary addition of two nibbles and returns the result as a byte."
   ]
  },
  {
   "cell_type": "code",
   "execution_count": 1,
   "metadata": {},
   "outputs": [
    {
     "name": "stdout",
     "output_type": "stream",
     "text": [
      "00010100\n"
     ]
    }
   ],
   "source": [
    "def binaryAddition(bin1, bin2):\n",
    "    carry = 0\n",
    "    result = \"\"\n",
    "    i = len(bin1) - 1\n",
    "    j = len(bin2) - 1\n",
    "    \n",
    "    while i >= 0 or j >= 0 or carry:\n",
    "        if i >= 0:\n",
    "            carry += int(bin1[i])\n",
    "            i -= 1\n",
    "        if j >= 0:\n",
    "            carry += int(bin2[j])\n",
    "            j -= 1\n",
    "        result = str(carry % 2) + result\n",
    "        carry //= 2\n",
    "    \n",
    "    return result.zfill(8)\n",
    "\n",
    "print(binaryAddition(\"1010\", \"1010\"))"
   ]
  },
  {
   "cell_type": "markdown",
   "metadata": {},
   "source": [
    "### Character to ASCII and EBCDIC Code Conversion\n",
    "- Implement functions that convert one character to its ASCII code and another to its EBCDIC equivalent (you can use a fixed conversion table for EBCDIC)."
   ]
  },
  {
   "cell_type": "code",
   "execution_count": 68,
   "metadata": {},
   "outputs": [
    {
     "name": "stdout",
     "output_type": "stream",
     "text": [
      "193\n",
      "65\n"
     ]
    }
   ],
   "source": [
    "def charToASCII(char):\n",
    "    return ord(char)\n",
    "\n",
    "def charToEBCDIC(char):\n",
    "    ebcdic_table = {\n",
    "        'A': 193, 'B': 194, 'C': 195, 'D': 196, 'E': 197, 'F': 198, 'G': 199, 'H': 200, 'I': 201, 'J': 209, 'K': 210, 'L': 211, 'M': 212, 'N': 213, 'O': 214, 'P': 215, 'Q': 216, 'R': 217, 'S': 226, 'T': 227, 'U': 228, 'V': 229, 'W': 230, 'X': 231, 'Y': 232, 'Z': 233, 'a': 129, 'b': 130, 'c': 131, 'd': 132, 'e': 133, 'f': 134, 'g': 135, 'h': 136, 'i': 137, 'j': 145, 'k': 146, 'l': 147, 'm': 148, 'n': 149, 'o': 150, 'p': 151, 'q': 152, 'r': 153, 's': 162, 't': 163, 'u': 164, 'v': 165, 'w': 166, 'x': 167, 'y': 168, 'z': 169, '0': 240, '1': 241, '2': 242, '3': 243, '4': 244, '5': 245, '6': 246, '7': 247, '8': 248, '9': 249, '@': 64, '#': 35, '$': 36, '_': 95, '&': 38, '*': 42, '(': 40, ')': 41, '-': 45, '+': 43, '=': 61, '|': 124, '!': 33, '\"': 34, \"'\": 39, ',': 44, '.': 46, '/': 47, ':': 58, ';': 59, '<': 60, '>': 62, '?': 63, '[': 91, ']': 93, '^': 94, '`': 96, '{': 123, '}': 125, '~': 126, '\\\\': 92, ' ': 64\n",
    "    }\n",
    "    return ebcdic_table.get(char, None)\n",
    "\n",
    "print(charToEBCDIC('A'))\n",
    "\n",
    "print(charToASCII('A'))"
   ]
  },
  {
   "cell_type": "markdown",
   "metadata": {},
   "source": [
    "### Sum of Binary Numbers\n",
    "- Write a Python function that adds two binary numbers."
   ]
  },
  {
   "cell_type": "code",
   "execution_count": 49,
   "metadata": {},
   "outputs": [
    {
     "name": "stdout",
     "output_type": "stream",
     "text": [
      "1000001000\n"
     ]
    }
   ],
   "source": [
    "\n",
    "def binaryAddition2(bin1, bin2):\n",
    "    carry = 0\n",
    "    result = \"\"\n",
    "    i = len(bin1) - 1\n",
    "    j = len(bin2) - 1\n",
    "    \n",
    "    while i >= 0 or j >= 0 or carry:\n",
    "        if i >= 0:\n",
    "            carry += int(bin1[i])\n",
    "            i -= 1\n",
    "        if j >= 0:\n",
    "            carry += int(bin2[j])\n",
    "            j -= 1\n",
    "        result = str(carry % 2) + result\n",
    "        carry //= 2\n",
    "    \n",
    "    return result\n",
    "\n",
    "print(binaryAddition(\"10101101\", \"101011011\"))"
   ]
  },
  {
   "cell_type": "markdown",
   "metadata": {},
   "source": [
    "### Subtract with Two's Complement:\n",
    "\n",
    "- Implement a function subtracting two binary numbers using the two's complement method."
   ]
  },
  {
   "cell_type": "code",
   "execution_count": 50,
   "metadata": {},
   "outputs": [
    {
     "name": "stdout",
     "output_type": "stream",
     "text": [
      "111\n"
     ]
    }
   ],
   "source": [
    "def binarySubtraction(bin1, bin2):\n",
    "    complement = \"\"\n",
    "    for bit in bin2:\n",
    "        complement += \"0\" if bit == \"1\" else \"1\"\n",
    "    \n",
    "    carry = 1\n",
    "    result = \"\"\n",
    "    for bit in complement[::-1]:\n",
    "        if bit == \"0\" and carry == 1:\n",
    "            result += \"1\"\n",
    "            carry = 0\n",
    "        elif bit == \"1\" and carry == 1:\n",
    "            result += \"0\"\n",
    "        else:\n",
    "            result += bit\n",
    "    \n",
    "    carry = 0\n",
    "    subtraction = \"\"\n",
    "    for i in range(len(bin1)-1, -1, -1):\n",
    "        bit1 = int(bin1[i])\n",
    "        bit2 = int(result[i])\n",
    "        sum = bit1 + bit2 + carry\n",
    "        subtraction = str(sum % 2) + subtraction\n",
    "        carry = sum // 2\n",
    "    \n",
    "    if carry == 1:\n",
    "        subtraction = subtraction[1:]\n",
    "    \n",
    "    return subtraction\n",
    "\n",
    "print(binarySubtraction(\"1010\", \"0101\"))"
   ]
  },
  {
   "cell_type": "markdown",
   "metadata": {},
   "source": [
    "## Workshop 1. Part Two: Number Systems in Different Bases\n",
    "\n",
    "Imagine that you work at a technology company that has developed a new storage system that uses an unusual number base: **base 13**. Your task is to build software that can convert numbers between base 10 (decimal) and this new base 13, and perform additional conversions between other bases."
   ]
  },
  {
   "cell_type": "markdown",
   "metadata": {},
   "source": [
    "### 1. Digit Identification in Base 13 (1 point)\n",
    "- Before performing the conversions, it is essential to understand how numbers are represented in base 13. In this system, the digits range from 0 to 9, and three additional symbols are added to represent the values 10, 11, and 12.\n",
    "- **Question**: What are the valid digits in a base 13 system? Describe how you would represent the numbers 10, 11, and 12 in this system."
   ]
  },
  {
   "cell_type": "markdown",
   "metadata": {},
   "source": [
    " - **Answer**:\n",
    "   Valid digits are: 0, 1, 2, 3, 4, 5, 6, 7, 8, 9, A, B, C; A, B and C represent 10, 11 and 12 respectivelly"
   ]
  },
  {
   "cell_type": "markdown",
   "metadata": {},
   "source": [
    "### 2. Decimal to Base 13 Conversion (2 points):\n",
    "\n",
    "- Implement a Python function that converts a base 10 number to its base 13 equivalent.\n",
    "- **Exercise**: Convert the decimal number 255 to base 13. What is the representation of this number in base 13?"
   ]
  },
  {
   "cell_type": "code",
   "execution_count": 53,
   "metadata": {},
   "outputs": [
    {
     "name": "stdout",
     "output_type": "stream",
     "text": [
      "168\n"
     ]
    }
   ],
   "source": [
    "def decToBase13(n):\n",
    "    res = ''\n",
    "    while n >= 1:\n",
    "        res = str(n % 13) + res if n % 13 < 10 else chr(n % 13 + 55) + res\n",
    "        n = n // 13\n",
    "    return res\n",
    "\n",
    "print(decToBase13(255))"
   ]
  },
  {
   "cell_type": "markdown",
   "metadata": {},
   "source": [
    "### 3. Base 13 to Decimal Conversion (2 points).\n",
    "- Now, implement a function that converts a base 13 number to its base ten equivalent.\n",
    "- **Exercise**: Convert the number 1A2 in base 13 to decimal. What is the value in base 10?"
   ]
  },
  {
   "cell_type": "code",
   "execution_count": 54,
   "metadata": {},
   "outputs": [
    {
     "data": {
      "text/plain": [
       "301"
      ]
     },
     "execution_count": 54,
     "metadata": {},
     "output_type": "execute_result"
    }
   ],
   "source": [
    "def base13ToDec(base13):\n",
    "    num = 0\n",
    "    iter = 0\n",
    "    for i in base13[::-1]:\n",
    "        match i:\n",
    "            case \"a\" | \"A\":\n",
    "                i = \"10\"\n",
    "            case \"b\" | \"B\":\n",
    "                i = \"11\"\n",
    "            case \"c\" | \"C\":\n",
    "                i = \"12\"\n",
    "        num = num + int(i)*(13**iter)\n",
    "        iter = iter + 1\n",
    "    return num\n",
    "\n",
    "base13ToDec(\"1A2\")"
   ]
  },
  {
   "cell_type": "markdown",
   "metadata": {},
   "source": [
    "### Base 13 to Binary Conversion (2 points):\n",
    "\n",
    "- Write a function that converts a base 13 number to its binary equivalent by first going through the conversion to base 10.\n",
    "- **Exercise**: Convert the number B3 from base 13 to binary."
   ]
  },
  {
   "cell_type": "code",
   "execution_count": 55,
   "metadata": {},
   "outputs": [
    {
     "data": {
      "text/plain": [
       "'10010010'"
      ]
     },
     "execution_count": 55,
     "metadata": {},
     "output_type": "execute_result"
    }
   ],
   "source": [
    "def base13ToBinary(base13):\n",
    "\n",
    "    num = 0\n",
    "    iter = 0\n",
    "    for i in base13[::-1]:\n",
    "        match i:\n",
    "            case \"a\" | \"A\":\n",
    "                i = \"10\"\n",
    "            case \"b\" | \"B\":\n",
    "                i = \"11\"\n",
    "            case \"c\" | \"C\":\n",
    "                i = \"12\"\n",
    "        num = num + int(i)*(13**iter)\n",
    "        iter = iter + 1\n",
    "    \n",
    " \n",
    "    binary = \"\"\n",
    "    while num >= 1:\n",
    "        binary = str(num % 2) + binary\n",
    "        num = num // 2\n",
    "    \n",
    "    return binary\n",
    "\n",
    "base13ToBinary(\"B3\")"
   ]
  },
  {
   "cell_type": "markdown",
   "metadata": {},
   "source": [
    "### Binary to Base 13 Conversion (2 points):\n",
    "- Write a function that converts a binary number to its base 13 equivalent by first going through the conversion to base 10.\n",
    "- **Exercise**: Convert the binary number 1101011 to base 13."
   ]
  },
  {
   "cell_type": "code",
   "execution_count": 57,
   "metadata": {},
   "outputs": [
    {
     "data": {
      "text/plain": [
       "'B3'"
      ]
     },
     "execution_count": 57,
     "metadata": {},
     "output_type": "execute_result"
    }
   ],
   "source": [
    "def binToBase13(bin):\n",
    "    n = 0\n",
    "    \n",
    "    for i in enumerate(bin[::-1]):\n",
    "        n = n + int(i[1])*(2**i[0])\n",
    "        \n",
    "    res = ''\n",
    "    while n >= 1:\n",
    "        res = str(n % 13) + res if n % 13 < 10 else chr(n % 13 + 55) + res\n",
    "        n = n // 13\n",
    "    return res\n",
    "    \n",
    "binToBase13(\"10010010\")"
   ]
  },
  {
   "cell_type": "markdown",
   "metadata": {},
   "source": [
    "### Base 13 to Hexadecimal Conversion (1 point):\n",
    "\n",
    "- Implement a function that converts a base 13 number to hexadecimal, using base 10 as an intermediate step.\n",
    "- **Exercise**: Convert the number 9C from base 13 to hexadecimal."
   ]
  },
  {
   "cell_type": "code",
   "execution_count": 41,
   "metadata": {},
   "outputs": [
    {
     "name": "stdout",
     "output_type": "stream",
     "text": [
      "81\n"
     ]
    }
   ],
   "source": [
    "def base13ToHex(base13):\n",
    "    num = 0\n",
    "    iter = 0\n",
    "    hex = \"\"\n",
    "    for i in base13[::-1]:\n",
    "        match i:\n",
    "            case \"a\" | \"A\":\n",
    "                i = \"10\"\n",
    "            case \"b\" | \"B\":\n",
    "                i = \"11\"\n",
    "            case \"c\" | \"C\":\n",
    "                i = \"12\"\n",
    "        num = num + int(i)*(13**iter)\n",
    "        iter = iter + 1\n",
    "\n",
    "    while num >= 1:\n",
    "        hex = str(num % 16) + hex if num % 16 < 10 else chr(num % 16 + 55) + hex\n",
    "        num = num // 16\n",
    "    return hex\n",
    "\n",
    "print(base13ToHex(\"9C\"))"
   ]
  },
  {
   "cell_type": "markdown",
   "metadata": {},
   "source": [
    "### Application in Data Storage (2 points):\n",
    "\n",
    "- Imagine that your company decides to store specific identifiers using base 13 because of its efficiency. If an identifier in base 10 is 3456, what would this identifier look like in base 13? \n",
    "- Also, convert this base 13 identifier to binary to show how it would be stored in a digital system.\n",
    "\n",
    "**Exercise**: Perform the conversions and explain why using unconventional number bases in certain systems might be advantageous."
   ]
  },
  {
   "cell_type": "code",
   "execution_count": 62,
   "metadata": {},
   "outputs": [
    {
     "name": "stdout",
     "output_type": "stream",
     "text": [
      "175B\n",
      "110110000000\n"
     ]
    }
   ],
   "source": [
    "def decToBase13(n):\n",
    "    res = ''\n",
    "    while n >= 1:\n",
    "        res = str(n % 13) + res if n % 13 < 10 else chr(n % 13 + 55) + res\n",
    "        n = n // 13\n",
    "    return res\n",
    "\n",
    "print(decToBase13(3456))\n",
    "\n",
    "def base13ToBinary(base13):\n",
    "    num = 0\n",
    "    iter = 0\n",
    "    for i in base13[::-1]:\n",
    "        match i:\n",
    "            case \"a\" | \"A\":\n",
    "                i = \"10\"\n",
    "            case \"b\" | \"B\":\n",
    "                i = \"11\"\n",
    "            case \"c\" | \"C\":\n",
    "                i = \"12\"\n",
    "        num = num + int(i)*(13**iter)\n",
    "        iter = iter + 1\n",
    "    \n",
    "    binary = \"\"\n",
    "    while num >= 1:\n",
    "        binary = str(num % 2) + binary\n",
    "        num = num // 2\n",
    "    \n",
    "    return binary\n",
    "\n",
    "print(base13ToBinary(\"175B\"))"
   ]
  },
  {
   "cell_type": "markdown",
   "metadata": {},
   "source": [
    "Using unconventional number bases might be useful for efficiency as using higher bases could be used to decrease the disk requirements in a systems as it uses less bites to store all its informations, although using higher bases might increase processing time in some operations"
   ]
  }
 ],
 "metadata": {
  "kernelspec": {
   "display_name": "Python 3",
   "language": "python",
   "name": "python3"
  },
  "language_info": {
   "codemirror_mode": {
    "name": "ipython",
    "version": 3
   },
   "file_extension": ".py",
   "mimetype": "text/x-python",
   "name": "python",
   "nbconvert_exporter": "python",
   "pygments_lexer": "ipython3",
   "version": "3.12.3"
  }
 },
 "nbformat": 4,
 "nbformat_minor": 2
}
