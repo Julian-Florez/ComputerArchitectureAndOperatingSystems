{
  "cells": [
    {
      "cell_type": "markdown",
      "metadata": {
        "id": "EwmjVAGCHIlP"
      },
      "source": [
        "#RGB Image Rendering\n",
        "\n",
        "RGB (Red, Green, Blue) image representation is one of the most common methods for storing and manipulating digital images. Each pixel in the image is represented by a combination of three color values: red (R), green (G), and blue (B). When combined, these values determine the final color of the pixel."
      ]
    },
    {
      "cell_type": "markdown",
      "metadata": {
        "id": "Jib3nmsaHd4C"
      },
      "source": [
        "#Structure of the RGB representation\n",
        "\n",
        "- **Pixel**: The smallest unit of an image. Each pixel has three color components: Red, Green and Blue.\n",
        "- **Color values**: Each color component is usually represented by a numeric value that can vary between 0 and 255 in images of 8 bits per channel (i.e. 24 bits total per pixel, since 8 bits $\\times$ 3 channels = 24 bits). A value of 0 indicates no presence of that color, and a value of 255 indicates the maximum intensity of that color.\n",
        "- **Color matching**: By combining different intensities of red, green, and blue, a wide spectrum of colors can be represented."
      ]
    },
    {
      "cell_type": "markdown",
      "metadata": {
        "id": "CY8tiffLH-hq"
      },
      "source": [
        "# Example of RGB representation\n",
        "Suppose we have a pixel representing a color:\n",
        "\n",
        "- Red: 255\n",
        "- Green: 0\n",
        "- Blue: 0\n",
        "-**This pixel would be completely red, since the red component is at maximum and the others are off.**\n",
        "\n",
        "Another example:\n",
        "\n",
        "- Red: 0\n",
        "- Green: 255\n",
        "- Blue: 0\n",
        "- **This pixel would be completely green.**\n",
        "\n",
        "And if we combine all of them to the maximum:\n",
        "\n",
        "- Red: 255\n",
        "- Green: 255\n",
        "- Blue: 255\n",
        "- **This pixel would be white, because all the primary colors are mixed at their maximum intensity.**\n"
      ]
    },
    {
      "cell_type": "markdown",
      "metadata": {
        "id": "2lNKpYWSIXTF"
      },
      "source": [
        "#Image storage\n",
        "An RGB digital image is stored as a three-dimensional array or as three two-dimensional arrays. Each two-dimensional array corresponds to one of the color components (R, G or B), and the combination of these values at a specific position in the array determines the color of the pixel at that position."
      ]
    },
    {
      "cell_type": "code",
      "execution_count": 8,
      "metadata": {},
      "outputs": [],
      "source": [
        "from PIL import Image\n",
        "import numpy as np\n",
        "\n",
        "# Create a 100x100 pixel image with a pure red color\n",
        "width, height = 100, 100\n",
        "red_image = np.zeros((height, width, 3), dtype=np.uint8)\n",
        "red_image[:] = [255, 0, 0]  # R = 255, G = 0, B = 0\n",
        "\n",
        "# Convert the NumPy array to an image and save it\n",
        "image = Image.fromarray(red_image)\n",
        "image.save('red_image.png')\n"
      ]
    },
    {
      "cell_type": "code",
      "execution_count": 48,
      "metadata": {},
      "outputs": [
        {
          "name": "stdout",
          "output_type": "stream",
          "text": [
            "42 138 147\n"
          ]
        }
      ],
      "source": [
        "import random\n",
        "from PIL import Image\n",
        "import numpy as np\n",
        "\n",
        "r = random.randint(0, 255)\n",
        "g = random.randint(0, 255)\n",
        "b = random.randint(0, 255)\n",
        "print (r, g, b)\n",
        "\n",
        "# Create a 100x100 pixel image with a random color\n",
        "width, height = 100, 100\n",
        "random_image = np.zeros((height, width, 3), dtype=np.uint8)\n",
        "random_image[:] = [r, g, b]\n",
        "\n",
        "# Convert the NumPy array to an image and save it\n",
        "image = Image.fromarray(random_image)\n",
        "image.save('random_image.png')\n"
      ]
    },
    {
      "cell_type": "code",
      "execution_count": 63,
      "metadata": {
        "id": "3aDeTG8KHAhu"
      },
      "outputs": [],
      "source": [
        "from PIL import Image\n",
        "import numpy as np\n",
        "import random\n",
        "\n",
        "# Create a 100x100 pixel image with a pure red color\n",
        "width, height = 100, 100\n",
        "red_image = np.zeros((height, width, 3), dtype=np.uint8)\n",
        "for i in range(height):\n",
        "    for j in range(width):\n",
        "        red_image[i,j] = [random.randint(0,255), random.randint(0,255), random.randint(0,255)]  # R = 255, G = 0, B = 0\n",
        "\n",
        "# Convert the NumPy array to an image and save it\n",
        "image = Image.fromarray(red_image)\n",
        "image.save('noise_image.png')\n"
      ]
    },
    {
      "cell_type": "markdown",
      "metadata": {
        "id": "-lncvE6BJKow"
      },
      "source": [
        "#RGB Manipulation\n",
        "\n",
        "Convert a flat file containing RGB values into an image. Suppose you have a text file where each line represents a pixel in “R G B” format, and you want to convert this file into an image."
      ]
    },
    {
      "cell_type": "code",
      "execution_count": 87,
      "metadata": {
        "id": "pVTa-RPOJK8h"
      },
      "outputs": [],
      "source": [
        "from PIL import Image\n",
        "import numpy as np\n",
        "import random\n",
        "\n",
        "# Open the file in write mode\n",
        "with open('imag.txt', 'w') as file:\n",
        "    # Write 8 random colors to the file\n",
        "    for _ in range(10000):\n",
        "        r = random.randint(0, 255)\n",
        "        g = random.randint(0, 255)\n",
        "        b = random.randint(0, 255)\n",
        "        file.write(f\"{r} {g} {b}\\n\")\n",
        "\n",
        "width = 100  # Image width\n",
        "height = 100 # Image height\n",
        "\n",
        "# We initialize an empty matrix to store the pixels.\n",
        "image_data = np.zeros((height, width, 3), dtype=np.uint8)\n",
        "\n",
        "# Read the text file with RGB values\n",
        "with open('imag.txt', 'r') as file:\n",
        "    lines = file.readlines()\n",
        "\n",
        "# Fill the image matrix with the RGB values\n",
        "for i, line in enumerate(lines):\n",
        "    r, g, b = map(int, line.strip().split())\n",
        "    row = i // width\n",
        "    col = i % width\n",
        "    image_data[row, col] = [r, g, b]\n",
        "\n",
        "# Create the image from the matrix\n",
        "image = Image.fromarray(image_data)\n",
        "image.save('output_image.png')\n"
      ]
    },
    {
      "cell_type": "markdown",
      "metadata": {
        "id": "P4AgVIHhJLLX"
      },
      "source": [
        "# Binary RGB\n",
        "To create an RGB representation using binary numbers, we can convert each color component (Red, Green, Blue) from its decimal format (generally in the range 0 to 255) to binary format (8 bits per component). Thus, each pixel in the image will be represented by 24 bits in total (8 bits for each of the three colors)."
      ]
    },
    {
      "cell_type": "code",
      "execution_count": 90,
      "metadata": {
        "id": "rzKsGxbtKous"
      },
      "outputs": [],
      "source": [
        "from PIL import Image\n",
        "import numpy as np\n",
        "import random\n",
        "\n",
        "# Open the file in write mode\n",
        "with open('binary_rgb_values.txt', 'w') as file:\n",
        "    # Write 8 random colors to the file\n",
        "    for _ in range(10000):\n",
        "        r = random.randint(0, 255)\n",
        "        g = random.randint(0, 255)\n",
        "        b = random.randint(0, 255)\n",
        "        r_bin = format(r, '08b')\n",
        "        g_bin = format(g, '08b')\n",
        "        b_bin = format(b, '08b')\n",
        "        file.write(f\"{r_bin} {g_bin} {b_bin}\\n\")\n",
        "\n",
        "width = 100\n",
        "height = 100\n",
        "\n",
        "image_data = np.zeros((height, width, 3), dtype=np.uint8)\n",
        "\n",
        "def binary_to_int(binary_str):\n",
        "    return int(binary_str, 2)\n",
        "with open('binary_rgb_values.txt', 'r') as file:\n",
        "    lines = file.readlines()\n",
        "\n",
        "\n",
        "for i, line in enumerate(lines):\n",
        "    r_bin, g_bin, b_bin = line.strip().split()\n",
        "    r = binary_to_int(r_bin)\n",
        "    g = binary_to_int(g_bin)\n",
        "    b = binary_to_int(b_bin)\n",
        "    row = i // width\n",
        "    col = i % width\n",
        "    image_data[row, col] = [r, g, b]\n",
        "\n",
        "\n",
        "image = Image.fromarray(image_data)\n",
        "image.save('output_binary_image.png')\n",
        "\n"
      ]
    },
    {
      "cell_type": "markdown",
      "metadata": {
        "id": "Ig5-Mb31LyOT"
      },
      "source": [
        "#Design of a proprietary coding system\n",
        "Designing your own encoding system for RGB involves defining how colors will be represented using a custom bit structure or values. Below, I guide you step-by-step to create a custom RGB encoding system:\n",
        "\n",
        "###Step 1: Define the coding system requirements\n",
        "Before designing the coding system, it is important to define some key requirements:\n",
        "\n",
        "- **Color Accuracy**: Decide how many color intensity levels you need for each component (Red, Green, Blue). This will determine how many bits you will allocate to each component.\n",
        "- **Storage efficiency**: Consider the balance between color accuracy and the amount of storage needed.\n",
        "- **Compatibility**: If necessary, think about how your encoding will map to other encoding standards (such as 24-bit RGB).\n",
        "\n",
        "###Step 2: Define the encoding structure\n",
        "Let's define an example coding system that uses 4 bits for each color component (R, G, B), giving us 16 intensity levels per color.\n",
        "\n",
        "- Example: 12-bit RGB encoding\n",
        "  - Red: 4 bits\n",
        "  - Green: 4 bits\n",
        "  - Blue: 4 bits\n",
        "  - This gives us a total 12-bit structure for each pixel.\n",
        "\n",
        "###Step 3: Create the coding system\n",
        "In this example, each color component will have 16 possible levels, which can be represented with 4 bits (from 0000 for minimum intensity to 1111 for maximum intensity).\n",
        "\n",
        "- Red: 4 bits (0000 to 1111)\n",
        "- Green: 4 bits (0000 to 1111)\n",
        "- Blue: 4 bits (0000 to 1111)"
      ]
    },
    {
      "cell_type": "code",
      "execution_count": 101,
      "metadata": {
        "id": "6iGUlh0wLyX0"
      },
      "outputs": [],
      "source": [
        "from PIL import Image\n",
        "import numpy as np\n",
        "\n",
        "# Función para reducir la precisión a 4 bits por componente de color\n",
        "def convert_to_12bit_color(r, g, b):\n",
        "    r_4bit = r >> 4  # Usar los 4 bits más significativos\n",
        "    g_4bit = g >> 4\n",
        "    b_4bit = b >> 4\n",
        "    return r_4bit, g_4bit, b_4bit\n",
        "\n",
        "# Función para reconstruir los valores RGB originales de 8 bits desde 4 bits\n",
        "def reconstruct_from_12bit(r_4bit, g_4bit, b_4bit):\n",
        "    r_8bit = r_4bit << 4  # Multiplicar por 16 (shift left)\n",
        "    g_8bit = g_4bit << 4\n",
        "    b_8bit = b_4bit << 4\n",
        "    return r_8bit, g_8bit, b_8bit\n",
        "\n",
        "# Cargar la imagen original\n",
        "original_image = Image.open('paisaje_1.png')\n",
        "width, height = original_image.size\n",
        "pixels = np.array(original_image)\n",
        "\n",
        "# Crear una nueva matriz para la imagen de 12 bits\n",
        "new_image_data = np.zeros((height, width, 3), dtype=np.uint8)\n",
        "\n",
        "# Convertir cada píxel a la nueva codificación\n",
        "for y in range(height):\n",
        "    for x in range(width):\n",
        "        r, g, b = pixels[y, x]\n",
        "        r_4bit, g_4bit, b_4bit = convert_to_12bit_color(r, g, b)\n",
        "        r_new, g_new, b_new = reconstruct_from_12bit(r_4bit, g_4bit, b_4bit)\n",
        "        new_image_data[y, x] = [r_new, g_new, b_new]\n",
        "\n",
        "# Guardar la nueva imagen\n",
        "new_image = Image.fromarray(new_image_data)\n",
        "new_image.save('output_12bit_image.png')\n"
      ]
    },
    {
      "cell_type": "markdown",
      "metadata": {
        "id": "VT1gG90XQlpY"
      },
      "source": [
        "#Gray to RGB code\n",
        "\n",
        "It is possible to encode RGB values using Gray code, which is a way of representing binary numbers so that two consecutive values differ by only one bit. Gray code is useful in certain applications to minimize errors in state transitions, such as in digital systems and data encoding.\n",
        "\n",
        "First, to encode an RGB value in Gray code, you need to convert each color component (Red, Green, Blue) from its standard binary representation to its Gray code equivalent.\n",
        "\n",
        "The Gray code for a binary number is obtained by the following formula:\n",
        "\n",
        "$Gray(n)=n\\oplus \\frac{n}{2}$\n",
        "\n",
        "Where $n$ is the number in binary, and  $\\oplus$ represents the XOR operation (exclusive or)."
      ]
    },
    {
      "cell_type": "code",
      "execution_count": 104,
      "metadata": {
        "id": "njPZlkBFQl3q"
      },
      "outputs": [],
      "source": [
        "from PIL import Image\n",
        "import numpy as np\n",
        "\n",
        "# Function to convert a binary number to Gray code\n",
        "def binary_to_gray(n):\n",
        "    return n ^ (n >> 1)\n",
        "\n",
        "# Function to convert Gray code to binary\n",
        "def gray_to_binary(gray):\n",
        "    binary = gray\n",
        "    while gray > 0:\n",
        "        gray >>= 1\n",
        "        binary ^= gray\n",
        "    return binary\n",
        "\n",
        "# Function to convert an RGB pixel to Gray code\n",
        "def rgb_to_gray_code(r, g, b):\n",
        "    r_gray = binary_to_gray(r)\n",
        "    g_gray = binary_to_gray(g)\n",
        "    b_gray = binary_to_gray(b)\n",
        "    return r_gray, g_gray, b_gray\n",
        "\n",
        "# Function to convert a Gray-coded pixel back to RGB\n",
        "def gray_code_to_rgb(r_gray, g_gray, b_gray):\n",
        "    r = gray_to_binary(r_gray)\n",
        "    g = gray_to_binary(g_gray)\n",
        "    b = gray_to_binary(b_gray)\n",
        "    return r, g, b\n",
        "\n",
        "# Load the original image\n",
        "original_image = Image.open('paisaje_1.png')\n",
        "width, height = original_image.size\n",
        "pixels = np.array(original_image)\n",
        "\n",
        "# Crear una nueva matriz para la imagen codificada en Gray\n",
        "gray_image_data = np.zeros((height, width, 3), dtype=np.uint8)\n",
        "\n",
        "# Convertir cada píxel a código Gray\n",
        "for y in range(height):\n",
        "    for x in range(width):\n",
        "        r, g, b = pixels[y, x]\n",
        "        r_gray, g_gray, b_gray = rgb_to_gray_code(r, g, b)\n",
        "        gray_image_data[y, x] = [r_gray, g_gray, b_gray]\n",
        "\n",
        "# Guardar la imagen en código Gray\n",
        "gray_image = Image.fromarray(gray_image_data)\n",
        "gray_image.save('output_gray_code_image.png')\n",
        "\n",
        "# Reconstruir la imagen original desde código Gray\n",
        "reconstructed_image_data = np.zeros((height, width, 3), dtype=np.uint8)\n",
        "for y in range(height):\n",
        "    for x in range(width):\n",
        "        r_gray, g_gray, b_gray = gray_image_data[y, x]\n",
        "        r, g, b = gray_code_to_rgb(r_gray, g_gray, b_gray)\n",
        "        reconstructed_image_data[y, x] = [r, g, b]\n",
        "\n",
        "# Guardar la imagen reconstruida\n",
        "reconstructed_image = Image.fromarray(reconstructed_image_data)\n",
        "reconstructed_image.save('reconstructed_image.png')\n"
      ]
    }
  ],
  "metadata": {
    "colab": {
      "provenance": []
    },
    "kernelspec": {
      "display_name": "Python 3",
      "name": "python3"
    },
    "language_info": {
      "codemirror_mode": {
        "name": "ipython",
        "version": 3
      },
      "file_extension": ".py",
      "mimetype": "text/x-python",
      "name": "python",
      "nbconvert_exporter": "python",
      "pygments_lexer": "ipython3",
      "version": "3.12.3"
    }
  },
  "nbformat": 4,
  "nbformat_minor": 0
}
